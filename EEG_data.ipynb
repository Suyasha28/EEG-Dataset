{
 "cells": [
  {
   "cell_type": "code",
   "execution_count": 5,
   "id": "56855e62",
   "metadata": {},
   "outputs": [
    {
     "name": "stdout",
     "output_type": "stream",
     "text": [
      "Requirement already satisfied: mne in c:\\users\\asus\\anaconda3\\lib\\site-packages (1.6.1)\n",
      "Requirement already satisfied: numpy>=1.21.2 in c:\\users\\asus\\anaconda3\\lib\\site-packages (from mne) (1.24.3)\n",
      "Requirement already satisfied: scipy>=1.7.1 in c:\\users\\asus\\anaconda3\\lib\\site-packages (from mne) (1.10.1)\n",
      "Requirement already satisfied: matplotlib>=3.5.0 in c:\\users\\asus\\anaconda3\\lib\\site-packages (from mne) (3.7.1)\n",
      "Requirement already satisfied: tqdm in c:\\users\\asus\\anaconda3\\lib\\site-packages (from mne) (4.65.0)\n",
      "Requirement already satisfied: pooch>=1.5 in c:\\users\\asus\\anaconda3\\lib\\site-packages (from mne) (1.8.1)\n",
      "Requirement already satisfied: decorator in c:\\users\\asus\\anaconda3\\lib\\site-packages (from mne) (5.1.1)\n",
      "Requirement already satisfied: packaging in c:\\users\\asus\\anaconda3\\lib\\site-packages (from mne) (23.0)\n",
      "Requirement already satisfied: jinja2 in c:\\users\\asus\\anaconda3\\lib\\site-packages (from mne) (3.1.2)\n",
      "Requirement already satisfied: lazy-loader>=0.3 in c:\\users\\asus\\anaconda3\\lib\\site-packages (from mne) (0.3)\n",
      "Requirement already satisfied: contourpy>=1.0.1 in c:\\users\\asus\\anaconda3\\lib\\site-packages (from matplotlib>=3.5.0->mne) (1.0.5)\n",
      "Requirement already satisfied: cycler>=0.10 in c:\\users\\asus\\anaconda3\\lib\\site-packages (from matplotlib>=3.5.0->mne) (0.11.0)\n",
      "Requirement already satisfied: fonttools>=4.22.0 in c:\\users\\asus\\anaconda3\\lib\\site-packages (from matplotlib>=3.5.0->mne) (4.25.0)\n",
      "Requirement already satisfied: kiwisolver>=1.0.1 in c:\\users\\asus\\anaconda3\\lib\\site-packages (from matplotlib>=3.5.0->mne) (1.4.4)\n",
      "Requirement already satisfied: pillow>=6.2.0 in c:\\users\\asus\\anaconda3\\lib\\site-packages (from matplotlib>=3.5.0->mne) (9.4.0)\n",
      "Requirement already satisfied: pyparsing>=2.3.1 in c:\\users\\asus\\anaconda3\\lib\\site-packages (from matplotlib>=3.5.0->mne) (3.0.9)\n",
      "Requirement already satisfied: python-dateutil>=2.7 in c:\\users\\asus\\anaconda3\\lib\\site-packages (from matplotlib>=3.5.0->mne) (2.8.2)\n",
      "Requirement already satisfied: platformdirs>=2.5.0 in c:\\users\\asus\\anaconda3\\lib\\site-packages (from pooch>=1.5->mne) (2.5.2)\n",
      "Requirement already satisfied: requests>=2.19.0 in c:\\users\\asus\\anaconda3\\lib\\site-packages (from pooch>=1.5->mne) (2.31.0)\n",
      "Requirement already satisfied: MarkupSafe>=2.0 in c:\\users\\asus\\anaconda3\\lib\\site-packages (from jinja2->mne) (2.1.1)\n",
      "Requirement already satisfied: colorama in c:\\users\\asus\\anaconda3\\lib\\site-packages (from tqdm->mne) (0.4.6)\n",
      "Requirement already satisfied: six>=1.5 in c:\\users\\asus\\anaconda3\\lib\\site-packages (from python-dateutil>=2.7->matplotlib>=3.5.0->mne) (1.16.0)\n",
      "Requirement already satisfied: charset-normalizer<4,>=2 in c:\\users\\asus\\anaconda3\\lib\\site-packages (from requests>=2.19.0->pooch>=1.5->mne) (2.0.4)\n",
      "Requirement already satisfied: idna<4,>=2.5 in c:\\users\\asus\\anaconda3\\lib\\site-packages (from requests>=2.19.0->pooch>=1.5->mne) (3.4)\n",
      "Requirement already satisfied: urllib3<3,>=1.21.1 in c:\\users\\asus\\anaconda3\\lib\\site-packages (from requests>=2.19.0->pooch>=1.5->mne) (1.26.16)\n",
      "Requirement already satisfied: certifi>=2017.4.17 in c:\\users\\asus\\anaconda3\\lib\\site-packages (from requests>=2.19.0->pooch>=1.5->mne) (2023.7.22)\n"
     ]
    }
   ],
   "source": [
    "!pip install mne\n"
   ]
  },
  {
   "cell_type": "code",
   "execution_count": 6,
   "id": "a5cea1af",
   "metadata": {},
   "outputs": [],
   "source": [
    "from glob import glob\n",
    "import os\n",
    "import mne\n",
    "import numpy as np\n",
    "import pandas as pd\n",
    "import matplotlib.pyplot as ply"
   ]
  },
  {
   "cell_type": "code",
   "execution_count": 16,
   "id": "7c1a526b",
   "metadata": {},
   "outputs": [
    {
     "data": {
      "text/plain": [
       "['C:\\\\Users\\\\asus\\\\Downloads\\\\EEG Dataset\\\\training\\\\s00.csv',\n",
       " 'C:\\\\Users\\\\asus\\\\Downloads\\\\EEG Dataset\\\\training\\\\s01.csv',\n",
       " 'C:\\\\Users\\\\asus\\\\Downloads\\\\EEG Dataset\\\\training\\\\s02.csv',\n",
       " 'C:\\\\Users\\\\asus\\\\Downloads\\\\EEG Dataset\\\\training\\\\s03.csv',\n",
       " 'C:\\\\Users\\\\asus\\\\Downloads\\\\EEG Dataset\\\\training\\\\s04.csv',\n",
       " 'C:\\\\Users\\\\asus\\\\Downloads\\\\EEG Dataset\\\\training\\\\s05.csv',\n",
       " 'C:\\\\Users\\\\asus\\\\Downloads\\\\EEG Dataset\\\\training\\\\s06.csv',\n",
       " 'C:\\\\Users\\\\asus\\\\Downloads\\\\EEG Dataset\\\\training\\\\s07.csv',\n",
       " 'C:\\\\Users\\\\asus\\\\Downloads\\\\EEG Dataset\\\\training\\\\s08.csv',\n",
       " 'C:\\\\Users\\\\asus\\\\Downloads\\\\EEG Dataset\\\\training\\\\s09.csv',\n",
       " 'C:\\\\Users\\\\asus\\\\Downloads\\\\EEG Dataset\\\\training\\\\s10.csv',\n",
       " 'C:\\\\Users\\\\asus\\\\Downloads\\\\EEG Dataset\\\\training\\\\s11.csv',\n",
       " 'C:\\\\Users\\\\asus\\\\Downloads\\\\EEG Dataset\\\\training\\\\s12.csv',\n",
       " 'C:\\\\Users\\\\asus\\\\Downloads\\\\EEG Dataset\\\\training\\\\s13.csv',\n",
       " 'C:\\\\Users\\\\asus\\\\Downloads\\\\EEG Dataset\\\\training\\\\s14.csv',\n",
       " 'C:\\\\Users\\\\asus\\\\Downloads\\\\EEG Dataset\\\\training\\\\s15.csv',\n",
       " 'C:\\\\Users\\\\asus\\\\Downloads\\\\EEG Dataset\\\\training\\\\s16.csv',\n",
       " 'C:\\\\Users\\\\asus\\\\Downloads\\\\EEG Dataset\\\\training\\\\s17.csv',\n",
       " 'C:\\\\Users\\\\asus\\\\Downloads\\\\EEG Dataset\\\\training\\\\s18.csv',\n",
       " 'C:\\\\Users\\\\asus\\\\Downloads\\\\EEG Dataset\\\\training\\\\s19.csv',\n",
       " 'C:\\\\Users\\\\asus\\\\Downloads\\\\EEG Dataset\\\\training\\\\s20.csv',\n",
       " 'C:\\\\Users\\\\asus\\\\Downloads\\\\EEG Dataset\\\\training\\\\s21.csv',\n",
       " 'C:\\\\Users\\\\asus\\\\Downloads\\\\EEG Dataset\\\\training\\\\s22.csv',\n",
       " 'C:\\\\Users\\\\asus\\\\Downloads\\\\EEG Dataset\\\\training\\\\s23.csv',\n",
       " 'C:\\\\Users\\\\asus\\\\Downloads\\\\EEG Dataset\\\\training\\\\s24.csv',\n",
       " 'C:\\\\Users\\\\asus\\\\Downloads\\\\EEG Dataset\\\\training\\\\s25.csv',\n",
       " 'C:\\\\Users\\\\asus\\\\Downloads\\\\EEG Dataset\\\\training\\\\s26.csv',\n",
       " 'C:\\\\Users\\\\asus\\\\Downloads\\\\EEG Dataset\\\\training\\\\s27.csv',\n",
       " 'C:\\\\Users\\\\asus\\\\Downloads\\\\EEG Dataset\\\\training\\\\s28.csv',\n",
       " 'C:\\\\Users\\\\asus\\\\Downloads\\\\EEG Dataset\\\\training\\\\s29.csv',\n",
       " 'C:\\\\Users\\\\asus\\\\Downloads\\\\EEG Dataset\\\\training\\\\s30.csv',\n",
       " 'C:\\\\Users\\\\asus\\\\Downloads\\\\EEG Dataset\\\\training\\\\s31.csv',\n",
       " 'C:\\\\Users\\\\asus\\\\Downloads\\\\EEG Dataset\\\\training\\\\s32.csv',\n",
       " 'C:\\\\Users\\\\asus\\\\Downloads\\\\EEG Dataset\\\\training\\\\s33.csv',\n",
       " 'C:\\\\Users\\\\asus\\\\Downloads\\\\EEG Dataset\\\\training\\\\s34.csv',\n",
       " 'C:\\\\Users\\\\asus\\\\Downloads\\\\EEG Dataset\\\\training\\\\s35.csv']"
      ]
     },
     "execution_count": 16,
     "metadata": {},
     "output_type": "execute_result"
    }
   ],
   "source": [
    "glob(r'C:\\Users\\asus\\Downloads\\EEG Dataset\\training/*.csv')"
   ]
  },
  {
   "cell_type": "code",
   "execution_count": null,
   "id": "295d2bb9",
   "metadata": {},
   "outputs": [],
   "source": []
  },
  {
   "cell_type": "code",
   "execution_count": null,
   "id": "0b0e7f6c",
   "metadata": {},
   "outputs": [],
   "source": []
  }
 ],
 "metadata": {
  "kernelspec": {
   "display_name": "Python 3 (ipykernel)",
   "language": "python",
   "name": "python3"
  },
  "language_info": {
   "codemirror_mode": {
    "name": "ipython",
    "version": 3
   },
   "file_extension": ".py",
   "mimetype": "text/x-python",
   "name": "python",
   "nbconvert_exporter": "python",
   "pygments_lexer": "ipython3",
   "version": "3.11.4"
  }
 },
 "nbformat": 4,
 "nbformat_minor": 5
}
